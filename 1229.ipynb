{
 "cells": [
  {
   "cell_type": "markdown",
   "id": "b3ea4011-a446-4a65-b587-63df8f0ce633",
   "metadata": {},
   "source": [
    "> ### `Performing Skin Microbiome Research: A Method to the Madness`"
   ]
  },
  {
   "cell_type": "markdown",
   "id": "d1c2dd2c-220c-4caf-9903-4ea1f2861143",
   "metadata": {},
   "source": [
    "1. Introduction\n",
    "- commom language & effective study design & validated methods & features unique to skin $\\to$ critical for high-quality standardized research\n",
    "- traditional cultivation method $\\to$ focus on a single/few bacteria\n",
    "  - 높은 처리량의 시퀀싱에 대한 접근성 증가 $\\to$ 게놈 및 주변 환경 조건을 포함하는 피부 미생물로 광범위하게 정의되는 피부 미생물군 전체를 조사할 수 있게 됨\n",
    "- 초기 피부 마이크로바이옴 연구 $\\to$ 건강한 인간 피부 미생물 군집이 이전 배양 방법을 통해 인식된 것보다 더 다양하고 고유함을 인지\n",
    "  - 고품질 미생물 연구의 중요한 요소?\n",
    "    - 낮은 biomass의 미생물, high contamination etc..\n",
    "- 신흥 분야?\n",
    "  - 최적의 방법론 파악\n",
    "  - 피부 마이크로바이옴 연구 설계 $\\rightarrow$ 다면적, 모든 downstream단계에 통합\n",
    "  - 가장 널리 사용되는 방법? 16D rRNA 유전자 증폭 시퀀싱\n",
    "  \n"
   ]
  },
  {
   "cell_type": "markdown",
   "id": "f2b4c2c7-b31e-4445-9cb9-a36c8a535c9a",
   "metadata": {},
   "source": [
    "2. potential pitfalls\n",
    "- 1) study design: consistent metadata collection; considering potential confounding factors\n",
    "- 2) Skin sample collection/storage: standardized collection/ handling of samples\n",
    "- 3) Sample processing/sequencing: DNA extraction; PCR conditions, primer selection\n",
    "- 4) Process controls: negative/blank controls; mock community comparison\n",
    "- 5) Analysis methods: pipeline description; sequencing data availability with associated metadata"
   ]
  },
  {
   "cell_type": "markdown",
   "id": "998a2820-c2e9-4178-85cb-67c22473e793",
   "metadata": {},
   "source": [
    "3. study design"
   ]
  },
  {
   "cell_type": "markdown",
   "id": "aa9aafd3-d54d-426e-803d-d53d1adc0d12",
   "metadata": {},
   "source": [
    "- 피부 마이크로바이옴 -> 박테리아, 곰팡이등 다양한 미생물로 구성\n",
    "  - 따라서 주안점을 어디에 둘지가 관건\n",
    "  - 초점을 특정 kingdom에 둘지, 모든 미생물에 둘 건지...가 연구 설계 시퀀싱, 비용 및 분석에 영향을 미친다. \n",
    "- 신체 부위와 성적 성숙도가 일치하는 경우에도 피부 마이크로바이옴의 일부 개인차가 있을 수 있기 때문에 이는 대상 연구 집단의 피부 마이크로바이옴에서 어느 정도의 이질성을 설명하기 위한 연구 설계의 필요성을 강조,,\n",
    "  - 그럼 이때 어느정도의 유의확률에서 통계적으로 유의한지 판단해볼 필요가 있는 건가?\n",
    "  - 그렇다고 모두 다 상이한 것은 아니고, 피부 마이크로바이옴의 많은 특징이 일반적으로 관찰될 수 있다. "
   ]
  },
  {
   "cell_type": "markdown",
   "id": "41359a9f-deea-4fab-a64b-a5590f00dc4f",
   "metadata": {},
   "source": [
    "- 특히 <특정 피부 부위>에서 <성적으로 성숙한 아동 및 성인의 군집>과 <신생아, 영유아 및 유아>의 피부 박테리아 군집은 현저히 구별됨\n",
    "- 서로 다른 피부 컨디션을 가진 피험자들이더라도 실험 연구 설계가 이질적이면 안 됨\n",
    "  - 최소한의 기준에 대한 필요성은 필요함\n",
    "- 항생제 사용한 건강한 개인은 배제\n",
    "  - 피부 질환이 있는 개인의 경우 이전에 국소 및 전신 약물을 사용하면 피부 마이크로바이옴에 영향을 미칠 수 있다. \n",
    "    - 이 정보는 제외 기준 또는 메타데이터 정의로 사용할 수 있다. \n",
    "    - 임상 메타데이터 문서는 다운스트림 분석에 매우 중요하며 연구 내/간 차이점을 설명하는 데 도움이 될 수 있음\n",
    "    - 메타데이터 : 연령, 성별, 항생제 사용 및 샘플링 사이트,애완 동물 소유, 탈취제 사용, 신체 활동, 계절, 시간, 출생 국가, 인종/민족과 같은 일부 요인 , 전달 방식 및 식단"
   ]
  }
 ],
 "metadata": {
  "kernelspec": {
   "display_name": "Python 3 (ipykernel)",
   "language": "python",
   "name": "python3"
  },
  "language_info": {
   "codemirror_mode": {
    "name": "ipython",
    "version": 3
   },
   "file_extension": ".py",
   "mimetype": "text/x-python",
   "name": "python",
   "nbconvert_exporter": "python",
   "pygments_lexer": "ipython3",
   "version": "3.9.12"
  }
 },
 "nbformat": 4,
 "nbformat_minor": 5
}
