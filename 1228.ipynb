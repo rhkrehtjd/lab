{
 "cells": [
  {
   "cell_type": "markdown",
   "id": "b3ea4011-a446-4a65-b587-63df8f0ce633",
   "metadata": {},
   "source": [
    "> ### `Performing Skin Microbiome Research: A Method to the Madness`"
   ]
  },
  {
   "cell_type": "markdown",
   "id": "d1c2dd2c-220c-4caf-9903-4ea1f2861143",
   "metadata": {},
   "source": [
    "1. Introduction\n",
    "- commom language & effective study design & validated methods & features unique to skin $\\to$ critical for high-quality standardized research\n",
    "- traditional cultivation method $\\to$ focus on a single/few bacteria\n",
    "  - 높은 처리량의 시퀀싱에 대한 접근성 증가 $\\to$ 게놈 및 주변 환경 조건을 포함하는 피부 미생물로 광범위하게 정의되는 피부 미생물군 전체를 조사할 수 있게 됨\n",
    "- 초기 피부 마이크로바이옴 연구 $\\to$ 건강한 인간 피부 미생물 군집이 이전 배양 방법을 통해 인식된 것보다 더 다양하고 고유함을 인지\n",
    "  - 고품질 미생물 연구의 중요한 요소?\n",
    "    - 낮은 biomass의 미생물, high contamination etc..\n",
    "- 신흥 분야?\n",
    "  - 최적의 방법론 파악\n",
    "  - 피부 마이크로바이옴 연구 설계 $\\rightarrow$ 다면적, 모든 downstream단계에 통합\n",
    "  - 가장 널리 사용되는 방법? 16D rRNA 유전자 증폭 시퀀싱\n",
    "  \n"
   ]
  },
  {
   "cell_type": "markdown",
   "id": "f2b4c2c7-b31e-4445-9cb9-a36c8a535c9a",
   "metadata": {},
   "source": [
    "2. potential pitfalls\n",
    "- 1) study design: consistent metadata collection; considering potential confounding factors\n",
    "- 2) Skin sample collection/storage: standardized collection/ handling of samples\n",
    "- 3) Sample processing/sequencing: DNA extraction; PCR conditions, primer selection\n",
    "- 4) Process controls: negative/blank controls; mock community comparison\n",
    "- 5) Analysis methods: pipeline description; sequencing data availability with associated metadata"
   ]
  },
  {
   "cell_type": "code",
   "execution_count": null,
   "id": "48b883cf-4731-476f-9b61-4b4e36eea9bb",
   "metadata": {},
   "outputs": [],
   "source": []
  }
 ],
 "metadata": {
  "kernelspec": {
   "display_name": "Python 3 (ipykernel)",
   "language": "python",
   "name": "python3"
  },
  "language_info": {
   "codemirror_mode": {
    "name": "ipython",
    "version": 3
   },
   "file_extension": ".py",
   "mimetype": "text/x-python",
   "name": "python",
   "nbconvert_exporter": "python",
   "pygments_lexer": "ipython3",
   "version": "3.9.12"
  }
 },
 "nbformat": 4,
 "nbformat_minor": 5
}
