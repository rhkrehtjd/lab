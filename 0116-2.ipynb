{
 "cells": [
  {
   "cell_type": "markdown",
   "id": "7a1d2ada-4006-4533-a6f9-f1fdf35794ac",
   "metadata": {},
   "source": [
    "> # 제 5강"
   ]
  },
  {
   "cell_type": "markdown",
   "id": "59034182-04d0-44ff-86e1-6cf7af3674af",
   "metadata": {},
   "source": [
    "- 바이오 빅데이터\n",
    "  - volume\n",
    "    - 데이터의 물리적 크기\n",
    "  - velocity\n",
    "    - 적시성의 데이터 처리 능력\n",
    "  - variety\n",
    "    - 정형, 비정형의 다양한 데이터"
   ]
  },
  {
   "cell_type": "markdown",
   "id": "bc6f2566-95f2-4a8f-a6f0-086621904b50",
   "metadata": {},
   "source": [
    "- 왜 주목받고 있나?\n",
    "  - 최근 DNA 및 단백질을 포함한 다양한 생체고분자 분석기술의 발전에 따라, 생명유전정보와 질병 사이의 관계에 대한 생물학적 정보가 급증하고 있음\n",
    "  - 인구고령화 및 빅데이터 생물학의 발달로 보건의료의 패러다임이 의료소비자인 개인맞춤형 의료로 변화하고 있으며, 이를 통해 질병에 대한 정확한 진단, 질병 조기 발견 및 예방이 가능할 것이라는 기대감과 함께 유전체 기반의 정밀의료에 대한 수요가 증가하고 있음\n",
    "    - 정밀의료?\n",
    "      - 환자마다 다른 유전적요인, 환경적요인들을 통합적으로 고려하여 환자에게 적절한 약과 용량 등을 처방내리는 것\n",
    "  - 유전정보의 변화 없이도 유전자발현을 조절할 수 있는 후성유전학적 현상들에 대한 새로운 시각이 새롭게 주목받고 있으며, 이러한 형상들을 유전 현상과 연결하여 분석할 수 있는 새로운 후성유전체 분석방법에 대한 연구 필요성이 대두되고 있음"
   ]
  },
  {
   "cell_type": "markdown",
   "id": "7d143394-666d-4185-9c3a-2575f5b2e648",
   "metadata": {},
   "source": [
    "- 빅데이터와 인공지능\n",
    "  - 생물학적인 데이터가 폭발적으로 증가하며, 여러가지 다양한 형태의 데이터들로 복잡도가 높기에 이것들을 이해하고 해석하기 위해선 자동화된 분석 tool이 필요\n",
    "    - 따라서 인공지능의 힘이 필요해지게 됨"
   ]
  }
 ],
 "metadata": {
  "kernelspec": {
   "display_name": "Python 3 (ipykernel)",
   "language": "python",
   "name": "python3"
  },
  "language_info": {
   "codemirror_mode": {
    "name": "ipython",
    "version": 3
   },
   "file_extension": ".py",
   "mimetype": "text/x-python",
   "name": "python",
   "nbconvert_exporter": "python",
   "pygments_lexer": "ipython3",
   "version": "3.9.12"
  }
 },
 "nbformat": 4,
 "nbformat_minor": 5
}
