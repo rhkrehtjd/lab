{
 "cells": [
  {
   "cell_type": "markdown",
   "id": "454b45e0-9254-4725-be0d-95b7c506382d",
   "metadata": {},
   "source": [
    "# `QIIME2의 workflow 설명`,[ref_1](https://bioinfoblog.tistory.com/entry/QIIME2-QIIME2%EC%9D%98-workflow-%EC%84%A4%EB%AA%85-%EC%9D%BC%EB%B0%98%EC%A0%81%EC%9D%B8-Amplicon-data-%EB%B6%84%EC%84%9D-%EA%B3%BC%EC%A0%95)\n",
    "\n",
    "\n",
    "    일반적인 Amplicon data 분석 과정\n",
    "    (amplicon ? 증폭 또는 복제 산물인 DNA 또는 RNA 조각)"
   ]
  },
  {
   "cell_type": "markdown",
   "id": "eac58f22-78ee-4b77-bc92-a9e98365d8b2",
   "metadata": {},
   "source": [
    "---"
   ]
  },
  {
   "cell_type": "markdown",
   "id": "9a846d99-cdcd-4e06-a0fa-790ec1412ea1",
   "metadata": {},
   "source": [
    "> 유용한 팁 모음"
   ]
  },
  {
   "cell_type": "markdown",
   "id": "e1f3aa56-f196-4774-98ff-78bcfd8b4723",
   "metadata": {},
   "source": [
    "- qiime --help\n",
    "  - plugins 종류 확인\n",
    "- qiime demux --help\n",
    "  - demux 플러그인에 포함된 actions 종류 확인\n",
    "- qiime demux emp-single -help \n",
    "  - emp-single method에 대한 설명 확인\n",
    "  "
   ]
  },
  {
   "cell_type": "markdown",
   "id": "71ac90c3-7f16-4762-9575-633572dc058b",
   "metadata": {},
   "source": [
    "---"
   ]
  },
  {
   "cell_type": "markdown",
   "id": "4d6456f7-ea2f-4361-aaf8-cb7052f5d88d",
   "metadata": {},
   "source": [
    "> 일반적인 amplicon data 분석 과정,[ref_2](https://docs.qiime2.org/2020.11/tutorials/overview/)"
   ]
  },
  {
   "cell_type": "markdown",
   "id": "5719eb5a-090a-4aab-9e59-beb30fd412e1",
   "metadata": {},
   "source": [
    "- raw sequence data\n",
    "- demultiplexing(각각의 read가 어떤 샘플로부터 왔는지 분리)\n",
    "  - multiplexing? 여러 개의 samples을 한 번의 lane/run으로 분석하기 위해 합치는 것, 각각의 샘플은 unique barcode(index or tag)로 구분 가능. \n",
    "  - 이때, demultiplexing? 다시 샘플 단위로 나눠주는 것\n",
    "- denoising(ASVs, OTUs) : Sequence errors를 줄이고, dereplicating sequences를 위한 목적\n",
    "  - ASV는 OTU보다 에러를 더 잘 제거\n",
    "  - ASV는 OTU보다 해상도가 더 높음(nucleotide level)\n",
    "    - 즉, 대부분의 논문에서 정확도와 해상력의 측면에서 OTU보다 ASV를 사용하는 것을 추천\n",
    "    - ASV는 ESV (exact sequence variant), zOTU (zero-radius OTU), SV (sequence variant), actual SV, 등으로도 불림\n",
    "  - denoising : noisy reads를 제거하고 고치는 것\n",
    "    - deblur의 경우 basic quality-score-based filtering이 선행되어야 한다. DADA2는 불필요하다.\n",
    "  - dereplicating : 중복되는 sequence를 제거하고 대신 해당 sequence의 count를 저장해서 파일 사이즈를 줄이는 것\n",
    "  - clustering : OTU picking(97% similarity로 묶어주는 과정, 요즘은 clustering 대신 denoising을 하는 것이 대세이다)\n",
    "    - denoising의 목적 : sequence error 줄이기, dereplicating sequences\n",
    "  - [ref_3](https://bioinfoblog.tistory.com/72)\n",
    "- feature table\n",
    "- common analysis\n",
    "  - taxonomic classification\n",
    "    - q2-feature-classifier\n",
    "    - classify-consensus-blast\n",
    "    - classify-sklearn\n",
    "      - pre-train 필요\n",
    "      - Naive Bayes classifier가 우수\n",
    "    - 이때, q2-feature-classifier와 classify-consensus-blast는 alignment-based method이기에 pre-train 필요없음\n",
    "  - alpha & beta diversity analyses\n",
    "  - phlyogenetic relationship (with aligning reads)\n",
    "  - biomarker discovery"
   ]
  },
  {
   "cell_type": "markdown",
   "id": "b5e55eff-edeb-47b3-ab51-ed6cfee180b1",
   "metadata": {},
   "source": [
    "---"
   ]
  },
  {
   "cell_type": "markdown",
   "id": "e096f401-880a-4b73-8e54-b9f2950a8bac",
   "metadata": {},
   "source": [
    "- Other plugins\n",
    "  - q2-longitudinal : 시간에 따른 데이터 분석에 사용\n",
    "  - q2-sample-classifier : 머신러닝 바탕으로 샘플의 metadata를 예측하는 데 사용\n",
    "  - q2-composition, q2-gneiss : biomarker finding\n",
    "  - q2-quaility-control : 데이터 퀄리티 확인"
   ]
  },
  {
   "cell_type": "markdown",
   "id": "5c60cdf4-a6f6-42c4-b0ad-55d88f5bd3da",
   "metadata": {},
   "source": [
    "----"
   ]
  },
  {
   "cell_type": "markdown",
   "id": "34dec813-100a-4510-9ba8-d7b7a43da757",
   "metadata": {},
   "source": [
    "- data files(artifacts와 visualizations)\n",
    "  - 데이터 파일은 artifacts(.qza)와 visualization(.qzv)로 구분됨\n",
    "  - artifacts : data와 metadata를 포함하는 것으로 일반적인 data에서 artifacts로의 importing, artifacts에서 일반적인 data로의 exporting이 가능함\n",
    "  - visualization는 최종 결과물로서, 시각적으로 데이터를 확인할 수 있는 파일\n",
    "    - https://view.qiime2.org에서 데이터를 쉽게 확인해볼 수 있다. "
   ]
  },
  {
   "cell_type": "markdown",
   "id": "55e6d1f1-89be-47f3-a72c-d224210a336b",
   "metadata": {},
   "source": [
    "- semantic types(= label ?)\n",
    "  - Artifiacts는 고유의 semantic types를 가지고 있는데, 어떤 분석에 사용되는 artifacts인지 나타내주는 라벨이라고 생각하면 된다. \n",
    "  - 예를 들어, distance matrix를 input으로 받는 분석의 경우, distance matrix를 semantic types으로 갖는 artifacts가 input으로 들어간다.\n",
    "\n",
    " "
   ]
  },
  {
   "cell_type": "markdown",
   "id": "86b9d147-9c7d-48ce-87ea-3b8b0f478919",
   "metadata": {},
   "source": [
    "- Plugins\n",
    "  - 각 상황에 맞는 플러그인을 설치해서 분석을 진행할 수 있다. \n",
    "  - 플러그인에는 method와 visualizer가 정의되어 있다. \n",
    "  - method는 artifacts와 parameter를 받아서 새로운 artifacts(한 개 이상)를 반환한다. \n",
    "  - visualizer는 artifacts와 parameter를 받아서 하나의 visualization을 반환한다. "
   ]
  }
 ],
 "metadata": {
  "kernelspec": {
   "display_name": "Python 3 (ipykernel)",
   "language": "python",
   "name": "python3"
  },
  "language_info": {
   "codemirror_mode": {
    "name": "ipython",
    "version": 3
   },
   "file_extension": ".py",
   "mimetype": "text/x-python",
   "name": "python",
   "nbconvert_exporter": "python",
   "pygments_lexer": "ipython3",
   "version": "3.9.12"
  }
 },
 "nbformat": 4,
 "nbformat_minor": 5
}
