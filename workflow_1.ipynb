{
 "cells": [
  {
   "cell_type": "markdown",
   "id": "454b45e0-9254-4725-be0d-95b7c506382d",
   "metadata": {},
   "source": [
    "# `QIIME2의 workflow 설명`,[ref_1](https://bioinfoblog.tistory.com/entry/QIIME2-QIIME2%EC%9D%98-workflow-%EC%84%A4%EB%AA%85-%EC%9D%BC%EB%B0%98%EC%A0%81%EC%9D%B8-Amplicon-data-%EB%B6%84%EC%84%9D-%EA%B3%BC%EC%A0%95)\n",
    "\n",
    "\n",
    "    일반적인 Amplicon data 분석 과정\n",
    "    (amplicon ? 증폭 또는 복제 산물인 DNA 또는 RNA 조각)"
   ]
  },
  {
   "cell_type": "markdown",
   "id": "eac58f22-78ee-4b77-bc92-a9e98365d8b2",
   "metadata": {},
   "source": [
    "---"
   ]
  },
  {
   "cell_type": "markdown",
   "id": "9a846d99-cdcd-4e06-a0fa-790ec1412ea1",
   "metadata": {},
   "source": [
    "> 유용한 팁 모음"
   ]
  },
  {
   "cell_type": "markdown",
   "id": "e1f3aa56-f196-4774-98ff-78bcfd8b4723",
   "metadata": {},
   "source": [
    "- qiime --help\n",
    "  - plugins 종류 확인\n",
    "- qiime demux --help\n",
    "  - demux 플러그인에 포함된 actions 종류 확인\n",
    "- qiime demux emp-single -help \n",
    "  - emp-single method에 대한 설명 확인\n",
    "  "
   ]
  },
  {
   "cell_type": "markdown",
   "id": "71ac90c3-7f16-4762-9575-633572dc058b",
   "metadata": {},
   "source": [
    "---"
   ]
  },
  {
   "cell_type": "markdown",
   "id": "4d6456f7-ea2f-4361-aaf8-cb7052f5d88d",
   "metadata": {},
   "source": [
    "> 일반적인 amplicon data 분석 과정,[ref_2](https://docs.qiime2.org/2020.11/tutorials/overview/)"
   ]
  },
  {
   "cell_type": "markdown",
   "id": "5719eb5a-090a-4aab-9e59-beb30fd412e1",
   "metadata": {},
   "source": [
    "- raw sequence data\n",
    "- demultiplexing(각각의 read가 어떤 샘플로부터 왔는지 분리)\n",
    "  - multiplexing? 여러 개의 samples을 한 번의 lane/run으로 분석하기 위해 합치는 것, 각각의 샘플은 unique barcode(index or tag)로 구분 가능. \n",
    "  - 이때, demultiplexing? 다시 샘플 단위로 나눠주는 것\n",
    "- denoising(ASVs, OTUs) : Sequence errors를 줄이고, dereplicating sequences를 위한 목적\n",
    "  - denoising : noisy reads를 제거하고 고치는 것\n",
    "    - deblur의 경우 basic quality-score-based filtering이 선행되어야 한다. DADA2는 불필요하다.\n",
    "  - dereplicating : 중복되는 sequence를 제거하고 대신 해당 sequence의 count를 저장해서 파일 사이즈를 줄이는 것\n",
    "  - clustering : OTU picking(97% similarity로 묶어주는 과정, 요즘은 clustering 대신 denoising을 하는 것이 대세이다)\n",
    "  - [ref_3](https://bioinfoblog.tistory.com/72)\n",
    "- feature table\n",
    "- common analysis\n",
    "  - taxonomic classification\n",
    "  - alpha & beta diversity analyses\n",
    "  - phlyogenetic relationship (with aligning reads)\n",
    "  - biomarker discovery"
   ]
  }
 ],
 "metadata": {
  "kernelspec": {
   "display_name": "Python 3 (ipykernel)",
   "language": "python",
   "name": "python3"
  },
  "language_info": {
   "codemirror_mode": {
    "name": "ipython",
    "version": 3
   },
   "file_extension": ".py",
   "mimetype": "text/x-python",
   "name": "python",
   "nbconvert_exporter": "python",
   "pygments_lexer": "ipython3",
   "version": "3.9.12"
  }
 },
 "nbformat": 4,
 "nbformat_minor": 5
}
