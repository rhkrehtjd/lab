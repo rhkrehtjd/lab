{
 "cells": [
  {
   "cell_type": "markdown",
   "id": "ddbdcffd-a409-4218-b96c-71310b5ecc35",
   "metadata": {},
   "source": [
    "> # 제 3,4강"
   ]
  },
  {
   "cell_type": "markdown",
   "id": "866e79d3-7d56-4b99-8bf7-ac46f76ed7a8",
   "metadata": {},
   "source": [
    "- sanger 시퀀싱의 장/단점\n",
    "  - advantage\n",
    "    - long reads(~900bps),(3세대보단 짧지만..)\n",
    "    - suitable for small projects\n",
    "  - disadvantage\n",
    "    - 비용대비 나오는 서열,결과물의 양이 적음\n",
    "    - low throughouts\n",
    "    - expensive\n",
    "- ngs\n",
    "  - 굉장히 짧지만 많은 결과물 가능\n",
    "  - 유전자 레벨에서 데이터 분석을 한다면 sanger가 유리할 수 있고\n",
    "  - 유전체 형태에서 전체 지놈을 읽는다면 ngs가 더 유리할 수 있다. \n",
    "    - 상황에 따라 sanger와 ngs를 취사선택할 수 있음\n",
    "    \n",
    "   "
   ]
  },
  {
   "cell_type": "markdown",
   "id": "aadaba55-14a6-4c0a-ba92-60cc6096effd",
   "metadata": {},
   "source": [
    "- ngs?\n",
    "  - 차세대 염기서열분석으로서 하나의 유전체를 무수히 많은 조각으로 분해하여 각 조각을 동시에 잃어낸 뒤, 생물정보학 기법을 이용하여 조합함으로써 방대한 유전체 정보를 빠르게 해독하는 방법\n",
    "  - 전통적인 sanger처럼 한 번에 한 개씩이 아니라 많은 DNA 가닥의 시퀀싱을 동시에 가능하게 했음 , 대량 병렬 시퀀싱이라고도 불리었음"
   ]
  },
  {
   "cell_type": "markdown",
   "id": "3e084ca8-6498-4ec0-b767-99f5770bc478",
   "metadata": {},
   "source": [
    "- 생물학 데이터베이스의 종류\n",
    "  - 문헌 데이터베이스\n",
    "  - 질병 데이터베이스\n",
    "  - 생물종 데이터베이스\n",
    "  - DNA 서열 데이터베이스\n",
    "  - 단백질 서열 데이터베이스\n",
    "  - 호몰로지 데이터베이스\n",
    "  - 단백질 구조 데이터베이스\n",
    "  - 유전자 발현 데이터베이스\n",
    "  - 화학물질 데이터베이스\n",
    "  - 생체 네트워크 데이터베이스"
   ]
  },
  {
   "cell_type": "markdown",
   "id": "c718991c-4a89-4c99-aa11-bee563ab4a71",
   "metadata": {},
   "source": [
    "- 원하는 정보들을 얻을 수 있는 db들이 많다..정도?"
   ]
  },
  {
   "cell_type": "markdown",
   "id": "d33d4e6e-d38e-4cb5-a83c-daef7038ca92",
   "metadata": {},
   "source": [
    "- 생물학 관련 데이터베이스 현황\n",
    "  - 초기 \n",
    "    - 서열과 3차원 구조에 관한 정보가 대부분\n",
    "  - 현재\n",
    "    - micro array, 유전자의 expression 정보 확인 가능한 db들도 존재"
   ]
  }
 ],
 "metadata": {
  "kernelspec": {
   "display_name": "Python 3 (ipykernel)",
   "language": "python",
   "name": "python3"
  },
  "language_info": {
   "codemirror_mode": {
    "name": "ipython",
    "version": 3
   },
   "file_extension": ".py",
   "mimetype": "text/x-python",
   "name": "python",
   "nbconvert_exporter": "python",
   "pygments_lexer": "ipython3",
   "version": "3.9.12"
  }
 },
 "nbformat": 4,
 "nbformat_minor": 5
}
