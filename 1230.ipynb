{
 "cells": [
  {
   "cell_type": "markdown",
   "id": "b3ea4011-a446-4a65-b587-63df8f0ce633",
   "metadata": {},
   "source": [
    "> ### `Performing Skin Microbiome Research: A Method to the Madness`"
   ]
  },
  {
   "cell_type": "markdown",
   "id": "d1c2dd2c-220c-4caf-9903-4ea1f2861143",
   "metadata": {},
   "source": [
    "1. Introduction\n",
    "- commom language & effective study design & validated methods & features unique to skin $\\to$ critical for high-quality standardized research\n",
    "- traditional cultivation method $\\to$ focus on a single/few bacteria\n",
    "  - 높은 처리량의 시퀀싱에 대한 접근성 증가 $\\to$ 게놈 및 주변 환경 조건을 포함하는 피부 미생물로 광범위하게 정의되는 피부 미생물군 전체를 조사할 수 있게 됨\n",
    "- 초기 피부 마이크로바이옴 연구 $\\to$ 건강한 인간 피부 미생물 군집이 이전 배양 방법을 통해 인식된 것보다 더 다양하고 고유함을 인지\n",
    "  - 고품질 미생물 연구의 중요한 요소?\n",
    "    - 낮은 biomass의 미생물, high contamination etc..\n",
    "- 신흥 분야?\n",
    "  - 최적의 방법론 파악\n",
    "  - 피부 마이크로바이옴 연구 설계 $\\rightarrow$ 다면적, 모든 downstream단계에 통합\n",
    "  - 가장 널리 사용되는 방법? 16D rRNA 유전자 증폭 시퀀싱\n",
    "  \n"
   ]
  },
  {
   "cell_type": "markdown",
   "id": "f2b4c2c7-b31e-4445-9cb9-a36c8a535c9a",
   "metadata": {},
   "source": [
    "2. potential pitfalls\n",
    "- 1) study design: consistent metadata collection; considering potential confounding factors\n",
    "- 2) Skin sample collection/storage: standardized collection/ handling of samples\n",
    "- 3) Sample processing/sequencing: DNA extraction; PCR conditions, primer selection\n",
    "- 4) Process controls: negative/blank controls; mock community comparison\n",
    "- 5) Analysis methods: pipeline description; sequencing data availability with associated metadata"
   ]
  },
  {
   "cell_type": "markdown",
   "id": "998a2820-c2e9-4178-85cb-67c22473e793",
   "metadata": {},
   "source": [
    "3. study design"
   ]
  },
  {
   "cell_type": "markdown",
   "id": "aa9aafd3-d54d-426e-803d-d53d1adc0d12",
   "metadata": {},
   "source": [
    "- 피부 마이크로바이옴 -> 박테리아, 곰팡이등 다양한 미생물로 구성\n",
    "  - 따라서 주안점을 어디에 둘지가 관건\n",
    "  - 초점을 특정 kingdom에 둘지, 모든 미생물에 둘 건지...가 연구 설계 시퀀싱, 비용 및 분석에 영향을 미친다. \n",
    "- 신체 부위와 성적 성숙도가 일치하는 경우에도 피부 마이크로바이옴의 일부 개인차가 있을 수 있기 때문에 이는 대상 연구 집단의 피부 마이크로바이옴에서 어느 정도의 이질성을 설명하기 위한 연구 설계의 필요성을 강조,,\n",
    "  - 그럼 이때 어느정도의 유의확률에서 통계적으로 유의한지 판단해볼 필요가 있는 건가?\n",
    "  - 그렇다고 모두 다 상이한 것은 아니고, 피부 마이크로바이옴의 많은 특징이 일반적으로 관찰될 수 있다. "
   ]
  },
  {
   "cell_type": "markdown",
   "id": "41359a9f-deea-4fab-a64b-a5590f00dc4f",
   "metadata": {},
   "source": [
    "- 특히 <특정 피부 부위>에서 <성적으로 성숙한 아동 및 성인의 군집>과 <신생아, 영유아 및 유아>의 피부 박테리아 군집은 현저히 구별됨\n",
    "- 서로 다른 피부 컨디션을 가진 피험자들이더라도 실험 연구 설계가 이질적이면 안 됨\n",
    "  - 최소한의 기준에 대한 필요성은 필요함\n",
    "- 항생제 사용한 건강한 개인은 배제\n",
    "  - 피부 질환이 있는 개인의 경우 이전에 국소 및 전신 약물을 사용하면 피부 마이크로바이옴에 영향을 미칠 수 있다. \n",
    "    - 이 정보는 제외 기준 또는 메타데이터 정의로 사용할 수 있다. \n",
    "    - 임상 메타데이터 문서는 다운스트림 분석에 매우 중요하며 연구 내/간 차이점을 설명하는 데 도움이 될 수 있음\n",
    "    - 메타데이터 : 연령, 성별, 항생제 사용 및 샘플링 사이트,애완 동물 소유, 탈취제 사용, 신체 활동, 계절, 시간, 출생 국가, 인종/민족과 같은 일부 요인 , 전달 방식 및 식단"
   ]
  },
  {
   "cell_type": "markdown",
   "id": "be9f2663-7237-48f7-a1fb-9ee167aaaf2c",
   "metadata": {},
   "source": [
    "4. skin preperation"
   ]
  },
  {
   "cell_type": "markdown",
   "id": "ae88a964-bfaa-4a87-a7c6-c13e50fd4b85",
   "metadata": {},
   "source": [
    "- 피부 마이크로바이옴 연구에서 통제해야 할 요인\n",
    "  - 제어 가능한 요인을 표준화하면 혼동 요인이 줄어들고 관찰된 차이에 책임이 있는 실험 변수를 결정할 수 있음"
   ]
  },
  {
   "cell_type": "markdown",
   "id": "45458e3f-ca58-430f-816f-cd64c72df087",
   "metadata": {},
   "source": [
    "5. skin sampling methods"
   ]
  },
  {
   "cell_type": "markdown",
   "id": "ceb70ef5-5da1-485a-9aa6-18a0fa2d5899",
   "metadata": {},
   "source": [
    "- 피부 표면의 피부 마이크로바이옴 구성은 피부의 더 깊은 층과 피부 하위 구획과 구조 사이에서 다를 수 있다. 따라서 일관성은 피부 마이크로바이옴 샘플링 방법의 핵심이다.\n",
    "- 여러 방법을 사용할 수 있음을 인지하면서, 연구 전반에 걸쳐 샘플 수집에 대한 일관성과 표준화된 접근 방식을 유지하는 것이 중요하다. \n",
    "- 피부 미생물 군집은 동일한 개인 내에서도 인간 피부 표면에 걸쳐 눈에 띄는 부위별 차이와 눈에 띄는 지형적 다양성을 나타냄.\n",
    "  - 그러나 일반적인 생리학적 특성(피지, 습윤, 건조)을 가진 피부 영역은 피부 미생물 군집 구성에서 일부 유사성을 공유함"
   ]
  },
  {
   "cell_type": "markdown",
   "id": "cf50ecd6-65c6-4755-b91e-2785b8234639",
   "metadata": {},
   "source": [
    "- 만성 피부 질환에서 피부의 장기에 걸친 변화를 다룬 샘플링은 피부 마이크로바이옴이 고도로 개별화되어 있음을 입증했으며 이는 반복 샘플링이 내부 제어를 제공하고 변화를 분석하기 위한 통계적 힘을 높이는 데 도움이 될 수 있음을 시사함"
   ]
  },
  {
   "cell_type": "code",
   "execution_count": null,
   "id": "689775e7-ced4-432f-955e-982af0fa1fae",
   "metadata": {},
   "outputs": [],
   "source": []
  }
 ],
 "metadata": {
  "kernelspec": {
   "display_name": "Python 3 (ipykernel)",
   "language": "python",
   "name": "python3"
  },
  "language_info": {
   "codemirror_mode": {
    "name": "ipython",
    "version": 3
   },
   "file_extension": ".py",
   "mimetype": "text/x-python",
   "name": "python",
   "nbconvert_exporter": "python",
   "pygments_lexer": "ipython3",
   "version": "3.9.12"
  }
 },
 "nbformat": 4,
 "nbformat_minor": 5
}
