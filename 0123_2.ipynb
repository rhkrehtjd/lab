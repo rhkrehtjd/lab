{
 "cells": [
  {
   "cell_type": "markdown",
   "id": "827fecb5-a0f9-4070-8659-f4e77e3914a7",
   "metadata": {},
   "source": [
    "> ### 제 3강"
   ]
  },
  {
   "cell_type": "markdown",
   "id": "676be5a6-9cf2-48fe-967a-639d8d94a0d5",
   "metadata": {},
   "source": [
    "- 전장 유전체, de novo 게놈을 만드는 데 있어서, 최종 단계까지 고려한 실험 설계와 시퀀싱 방법이 중요\n",
    "- 시퀀싱 데이터를 바탕으로 de novo assembly 수행\n",
    "- 최근에는 long read 데이터를 바탕으로 게놈 사이즈가 작은 미생물 수준의 de novo가 가능\n",
    "- 게놈 사이즈가 크다면? de novo assembly 한 번만 가지고는 단 번에 수행되긴 어렵다\n",
    "  - 다양한 분석 방법들이 필요\n"
   ]
  },
  {
   "cell_type": "markdown",
   "id": "adccebde-b5c3-4019-97c9-9259e03ffd8c",
   "metadata": {},
   "source": [
    "> what is assembly?\n",
    "\n",
    "    시퀀싱이 진행되면 서열이 굉장히 작은 형태의 조각으로 얻어짐\n",
    "    \n",
    "    단편 조각을 보통 sequence reads라고 함\n",
    "    이 작은 조각들의 굉장히 유사한 부분들을 이어붙여가면서 긴 서열을 만들어내는 데 이 과정을 assembly라고 함\n",
    "    reads를 assembly하면 contigs라고 함\n",
    "    \n",
    "    contigs를 순서대로 맞추면 더 큰 단위인 scaffold이고\n",
    "    \n",
    "    또 이 scaffold들도 일부 gap들을 엮어서 mapped scaffold\n",
    "    이런 과정들이 genome assembly라고 함\n",
    "    \n",
    "    \n",
    "    "
   ]
  },
  {
   "cell_type": "markdown",
   "id": "714d9702-2512-4fd6-85e6-4903f9ff131f",
   "metadata": {},
   "source": [
    "> assembly의 종류?"
   ]
  },
  {
   "cell_type": "markdown",
   "id": "abcd0e37-0958-4633-a46c-c7b87485c4b6",
   "metadata": {},
   "source": [
    "- de novo assembly\n",
    "  - 전혀 guide가 없음\n",
    "- reference assembly\n",
    "  - guide가 있음"
   ]
  },
  {
   "cell_type": "markdown",
   "id": "022f73a1-6804-4af4-8ef7-1d936ec71d76",
   "metadata": {},
   "source": [
    "> general workflow de novo assembly\n",
    "\n",
    "    reads -> contigs -> scaffolds -> chromosome"
   ]
  },
  {
   "cell_type": "markdown",
   "id": "28929650-77fe-4e82-aa3d-8fce32f74bfe",
   "metadata": {},
   "source": [
    "- de novo의 알고리즘\n",
    "  - OLC\n",
    "    - 작은 정렬들을 오버랩하며,,\n",
    "    - 가장 많이 겹치는 서열들을 하나하나 연속적으로 늘려가는 형태의 알고리즘\n",
    "  - DBG\n",
    "    - 그래프를 그려내는 method 방식\n",
    "    - local만을 최적화한다기보다 global적인 목표를 달성하기 위해 그래프를 그려내며 수행하는 알고리즘\n",
    "    - 가장 많이 사용되며 업데이트 중\n",
    "    - k-mer 상수가 사용됨\n",
    "      - k-mer? \n",
    "      - 문자열에서 가능한 모든 부분 문자열의 길이...\n",
    "      - 유전체학에서는? dna sequencing으로 얻은 reads의 모든 가능한 부분의 서열을 이야기하고 그 서열의 길이를 k-mer라고 함"
   ]
  },
  {
   "cell_type": "markdown",
   "id": "80f07e26-3442-4960-880f-032274037813",
   "metadata": {},
   "source": [
    "- de novo assembler\n",
    "  - 굉장히 많음\n",
    "  - assembler마다 어떤 데이터를 인풋으로 받느냐 어떤 생물종의 데이터이냐 얼만큼의 양의 데이터냐에 따라 다름\n",
    "  - assembler를 사용하면서도 k-mer를 몇개를 주느냐 또는 어떤 parameter를 주느냐에 따라 결과가 천차만별임\n",
    "  - 다양한 assembler들이 모두 장단점이 있기에 각 실험 설계마다 취사선택해야함"
   ]
  },
  {
   "cell_type": "markdown",
   "id": "8bddf12a-66c3-4936-8a0c-91f8b992101c",
   "metadata": {},
   "source": [
    "> assembly evaluation\n",
    "\n",
    "    1. total assembly size\n",
    "    2. total number of sequences\n",
    "    3. longest scaffold/contig\n",
    "    4. average scaffold contig\n",
    "    5. N50/L50 "
   ]
  }
 ],
 "metadata": {
  "kernelspec": {
   "display_name": "Python 3 (ipykernel)",
   "language": "python",
   "name": "python3"
  },
  "language_info": {
   "codemirror_mode": {
    "name": "ipython",
    "version": 3
   },
   "file_extension": ".py",
   "mimetype": "text/x-python",
   "name": "python",
   "nbconvert_exporter": "python",
   "pygments_lexer": "ipython3",
   "version": "3.9.12"
  }
 },
 "nbformat": 4,
 "nbformat_minor": 5
}
