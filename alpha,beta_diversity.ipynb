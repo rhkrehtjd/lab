{
 "cells": [
  {
   "cell_type": "markdown",
   "id": "579a14f1-df1e-4860-93be-482170112621",
   "metadata": {},
   "source": [
    "- alpha diverity\n",
    "  - 샘플 `내`의 다양성을 확인하기 위한 분석으로, 값이 높을수록 샘플 내에 더 다양한 미생물이 존재한다는 것을 알 수 있다.\n",
    "  - alpha diversity를 계산하기 위해 사용되는 다양한 index들이 있다. \n",
    "  - 어떤 index를 사용하여 계산하는지에 따라 다양성은 유의한 차이를 보일 수도 있고 아닐 수도 있다. \n",
    "  - 따라서 분석의 목적에 따라 알맞은 index를 선택할 필요가 있다. \n",
    "    - observed features : 샘플 내에서 발견된 species의 수, 단지 종 수? 몇 종류?\n",
    "      - a qualitative measure of community richness\n",
    "    - Shannon's diversity index : Shannon entropy,species의 수 뿐만 아니라 분포까지 고려하여 계산한 값\n",
    "      - 한 집단 내의 데이터의 class가 얼마나 다양한지를 나타내는 지표\n",
    "      - 종의 개수 뿐만 아니라 각 종에 속한 동물의 분포까지 고려하여 수치를 계산한다. \n",
    "      - a quantative measure of community richness\n",
    "    - Faith's Phylogenetic Diversity : 샘플에 존재하는 species로 phylogenetic tree를 만들었을 때, 그 가지의 길이 합.\n",
    "> alpha diversity의 결과는 rarefaction curve로 표현할 수 있다. 가로축은 read의 수, 세로축은 diversity값(shannon index)을 의미한다. 그래프가 가파를수록 read수애 따른 다양성 차이가 크다는 것을 의미한다. 경사가 완만해지는 구간이 나타난다는 것은 이 구간을 통해 시퀀싱을 더 해서 read수가 늘어나도 diversity는 더 이상 증가하지 않을 것이라는 것을 알 수 있다. \n",
    "- beta diversity\n",
    "  - 샘플 간의 다양성을 계산\n",
    "  - 두 개 이상의 샘플이 갖고 있는 미생물 군집의 다양성을 비교할 때 사용하는 방법\n",
    "  - 다양한 index를 사용하여 계산할 수 있으며, 분석 목적에 따라 알맞은 index를 선택\n",
    "    - Jaccard distance : 샘플 간에 species의 존재 유무를 계산, 이때 species의 풍부도는 고려되지 않음\n",
    "      - 0에서 1사이의 값을 가지며, 0은 샘플 간에 같은 species를 갖고 있는 것을 의미하고 1은 샘플 간에 공통적인 species가 없다는 것을 의미\n",
    "      - a qualitative measure of community dissimilarity\n",
    "    - Bray-Curtis dissimilarity\n",
    "      - species의 풍부도를 바탕으로 계산, 0에서 1사이의 값을 가짐, 0은 샘플 간에 같은 species를 갖고 있는 것을 의미하고, 1은 샘플 간에 공통적인 species가 없다는 것을 의미\n",
    "      - a quantitative measure of community dissimilarity\n",
    "    - UniFrac : 계통수(Phylogenetic Tree)를 바탕으로 계싼\n",
    "      - unweighter UniFrac : 풍부도를 제외하고 계통수의 가지 길이로만 계산\n",
    "      - weighted UniFrac : 풍부도와 계통수의 가지 길이를 함께 계산\n",
    "> Beta diversity 결과는 PCoA plot으로 표현할 수 있다. 이때, PCoA plot이란 차원 축소를 통해 샘플 사이의 거리를 좌표에 표시한 것이다. 좌표 상에서 거리가 가까울수록 샘플 간의 다양성이 비슷하다는 것을 알 수 있다. "
   ]
  },
  {
   "cell_type": "markdown",
   "id": "ad4765d4-7a37-44d2-bcf7-b4c25daf9d3d",
   "metadata": {},
   "source": [
    "- FeatureTable[Frequency] : QIIME2 artifact\n",
    "  - contains counts(frequences) of each unique sequence sample in the dataset\n",
    "- FeatureData[Sequence] : QIIME 2 artifact, which maps feature identifiers in the FeatureTable[Frequency] to the sequences they present.\n",
    "> 결론? FeatureTable[Frequency]와 Feature[Sequence]가 DADA2의 output?"
   ]
  },
  {
   "cell_type": "markdown",
   "id": "d66789c0-3bb8-41fc-8365-24aa8c3c3d1b",
   "metadata": {},
   "source": [
    "- DADA2 : perform initial quality control and generate out FeatureTable[Frequency] and FeatureData[Sequence] objects.\n",
    "  - however the DADA2 denoising process is onlt applicable to a single sequencing run at a time, so we need to run this on a per sequencing run basis and then merge the results.\n",
    "  - "
   ]
  }
 ],
 "metadata": {
  "kernelspec": {
   "display_name": "Python 3 (ipykernel)",
   "language": "python",
   "name": "python3"
  },
  "language_info": {
   "codemirror_mode": {
    "name": "ipython",
    "version": 3
   },
   "file_extension": ".py",
   "mimetype": "text/x-python",
   "name": "python",
   "nbconvert_exporter": "python",
   "pygments_lexer": "ipython3",
   "version": "3.7.6"
  }
 },
 "nbformat": 4,
 "nbformat_minor": 5
}
