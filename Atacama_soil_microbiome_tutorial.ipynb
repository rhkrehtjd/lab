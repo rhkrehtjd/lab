{
 "cells": [
  {
   "cell_type": "markdown",
   "id": "00d81e73-b076-406b-8fa0-51286d4d4aca",
   "metadata": {},
   "source": [
    "> introduction"
   ]
  },
  {
   "cell_type": "markdown",
   "id": "d6529781-67e3-4ccd-8433-980c4cc50ba2",
   "metadata": {},
   "source": [
    "- QIIME 2를 사용하여 칠레 북부의 아타카마 사막에서 토양 샘플을 분석해보자.\n",
    "  - 아타카마 사막은 지구상에서 가장 건조한 지역 중 하나\n",
    "  - 이 극심한 건조에도 불구하고 토양에 미생물이 살고 있음\n",
    "  - 이 연구에서 수집한 토양 미생물 군집은 평균 토양 상대 습도가 고도와 양의 상관관계가 있는 두 개의 동서 단면인 Baquedano와 Yungay를 따른다. \n",
    "     - 높은 고도는 덜 건조하므로 평균 토양 상대 습도가 더 높다. \n",
    "     - 이 횡단면을 따라 각 사이트에서 구덩이를 파고 각 구덩이의 세 깊이에서 토양 샘플을 수집함. "
   ]
  },
  {
   "cell_type": "markdown",
   "id": "63a861e0-10bd-483b-8375-059b3e086b56",
   "metadata": {},
   "source": [
    "> ### Explore the step"
   ]
  },
  {
   "cell_type": "markdown",
   "id": "e35c98bc-4bd2-4dc0-bf65-f54eb72306bc",
   "metadata": {},
   "source": [
    "```\n",
    "- tutorial을 진행할 dir을 만들자.\n",
    "- 그리고 그 dir로 이동하자\n",
    "\n",
    "code;\n",
    "\n",
    "mkdir qiime2-atacama-tutorial\n",
    "cd qiime2-atacama-tutorial\n",
    "\n",
    "- This \"sample-metadata.tsv\" file is used throughout the rest of the tutorial\n",
    "\n",
    "code;\n",
    "\n",
    "wget \\\n",
    "  -O \"sample-metadata.tsv\" \\\n",
    "  \"https://data.qiime2.org/2022.11/tutorials/atacama-soils/sample_metadata.tsv\"\n",
    "\n",
    "- Download the multiplexed reads. \n",
    "- Download three fastq.gz files, \n",
    "  - corresponding to the forward, reverse, and barcode (i.e., index) reads. \n",
    "\n",
    "- multiplexed reads data들을 download\n",
    "\n",
    "code;\n",
    "\n",
    "mkdir emp-paired-end-sequences\n",
    "\n",
    "# forward\n",
    "wget \\\n",
    "  -O \"emp-paired-end-sequences/forward.fastq.gz\" \\\n",
    "  \"https://data.qiime2.org/2022.11/tutorials/atacama-soils/10p/forward.fastq.gz\"\n",
    "  \n",
    "# reverse\n",
    "wget \\\n",
    "  -O \"emp-paired-end-sequences/reverse.fastq.gz\" \\\n",
    "  \"https://data.qiime2.org/2022.11/tutorials/atacama-soils/10p/reverse.fastq.gz\"\n",
    "  \n",
    "# barcodes\n",
    "wget \\\n",
    "  -O \"emp-paired-end-sequences/barcodes.fastq.gz\" \\\n",
    "  \"https://data.qiime2.org/2022.11/tutorials/atacama-soils/10p/barcodes.fastq.gz\"\n",
    "\n",
    "\n",
    "\n",
    "```"
   ]
  },
  {
   "cell_type": "markdown",
   "id": "85e8e54a-59b5-4f09-aa0e-5880e2230902",
   "metadata": {},
   "source": [
    "- sequence data들을 다운로드 받음\n",
    "  - 이를 분석하기 위해서 artifact로 변환 필요..\n",
    "```\n",
    "qiime tools import \\\n",
    "   --type EMPPairedEndSequences \\\n",
    "   --input-path emp-paired-end-sequences \\\n",
    "   --output-path emp-paired-end-sequences.qza\n",
    "```\n",
    "- 이때, --type EMPPairedEndSequences이 의미하는 건? artifact의 타입!\n",
    "- input? 세 개의 파일이 들어있는 폴더 자체를 넣어주는 거 같음...\n",
    "- 그리고 output으로 emp-paired-end-sequences.qza이 나옴\n",
    "  - 이 output 파일의 artifact 타입이 EMPPairedEndSequences"
   ]
  },
  {
   "cell_type": "markdown",
   "id": "11bf4d78-96fc-4044-bd97-3c4eb001c509",
   "metadata": {},
   "source": [
    "- 이제 demultiplex the sequence reads\n",
    "  - 이 과정을 위해 필요한 거?\n",
    "  - metadata file!\n",
    "  - 이 파일에서 샘플별 바코드가 포함된 열을 지정해야 한다. \n",
    "  - 이 경우 해당 열의 이름은 바코드 시퀀스이다. \n",
    "```\n",
    "qiime demux emp-paired \\\n",
    "  --m-barcodes-file sample-metadata.tsv \\\n",
    "  --m-barcodes-column barcode-sequence \\\n",
    "  --p-rev-comp-mapping-barcodes \\\n",
    "  --i-seqs emp-paired-end-sequences.qza \\\n",
    "  --o-per-sample-sequences demux-full.qza \\\n",
    "  --o-error-correction-details demux-details.qza\n",
    "  ```"
   ]
  },
  {
   "cell_type": "markdown",
   "id": "64dbe858-5964-4f6d-9380-99ad7e41b24b",
   "metadata": {},
   "source": [
    "- subsample??\n",
    "  - Let’s subsample the data. \n",
    "  - We will perform this subsampling in this tutorial for two reasons\n",
    "    - one, to speed up the tutorial run time\n",
    "    - two, to demonstrate the functionality\n",
    "```\n",
    "qiime demux subsample-paired \\\n",
    "  --i-sequences demux-full.qza \\\n",
    "  --p-fraction 0.3 \\\n",
    "  --o-subsampled-sequences demux-subsample.qza\n",
    "\n",
    "qiime demux summarize \\\n",
    "  --i-data demux-subsample.qza \\\n",
    "  --o-visualization demux-subsample.qzv\n",
    "```"
   ]
  },
  {
   "cell_type": "markdown",
   "id": "69f397fb-fb25-4fcc-a5c6-32e2973230d2",
   "metadata": {},
   "source": [
    "---"
   ]
  },
  {
   "cell_type": "markdown",
   "id": "733c3dc6-a082-4186-b710-246f39b2db46",
   "metadata": {},
   "source": [
    "- Let’s take a look at the summary in demux-subsample.qzv.\n",
    "- In the “Per-sample sequence counts” table on the “Overview” tab, there are 75 samples in the data. \n",
    "  - If we look at the last 20 or so rows in the table, though, we will observe that many samples have fewer than 100 reads in them - let’s filter those samples out of the data:\n",
    "  - 어떻게?\n",
    "  ```\n",
    "  qiime tools export \\\n",
    "  --input-path demux-subsample.qzv \\\n",
    "  --output-path ./demux-subsample/\n",
    "\n",
    "qiime demux filter-samples \\\n",
    "  --i-demux demux-subsample.qza \\\n",
    "  --m-metadata-file ./demux-subsample/per-sample-fastq-counts.tsv \\\n",
    "  --p-where 'CAST([forward sequence count] AS INT) > 100' \\\n",
    "  --o-filtered-demux demux.qza\n",
    "  ```"
   ]
  },
  {
   "cell_type": "markdown",
   "id": "6aa04d98-2a49-4495-a30e-e89d5350d6b2",
   "metadata": {},
   "source": [
    "- Next, we’ll look at the sequence quality based on ten-thousand randomly selected reads from the subsampled and filtered data, and then denoise the data. \n",
    "- The plot on the left presents the quality scores for the forward reads, and the plot on the right presents the quality scores for the reverse reads. \n",
    "- We’ll use these plots to determine what trimming parameters we want to use for denoising with DADA2, and then denoise the reads using dada2 denoise-paired."
   ]
  },
  {
   "cell_type": "markdown",
   "id": "e59e4f97-d86c-48eb-8db2-c7cf02176368",
   "metadata": {},
   "source": [
    "- In this example we have 150-base forward and reverse reads. Since we need the reads to be long enough to overlap when joining paired ends, the first thirteen bases of the forward and reverse reads are being trimmed, but no trimming is being applied to the ends of the sequences to avoid reducing the read length by too much. \n",
    "- In this example, the same values are being provided for --p-trim-left-f and --p-trim-left-r and for --p-trunc-len-f and --p-trunc-len-r, but that is not a requirement.\n",
    "```\n",
    "qiime dada2 denoise-paired \\\n",
    "  --i-demultiplexed-seqs demux.qza \\\n",
    "  --p-trim-left-f 13 \\\n",
    "  --p-trim-left-r 13 \\\n",
    "  --p-trunc-len-f 150 \\\n",
    "  --p-trunc-len-r 150 \\\n",
    "  --o-table table.qza \\\n",
    "  --o-representative-sequences rep-seqs.qza \\\n",
    "  --o-denoising-stats denoising-stats.qza\n",
    "  ```\n",
    "  "
   ]
  },
  {
   "cell_type": "markdown",
   "id": "cafb2b84-8d1f-4674-9d2c-456fe90773a0",
   "metadata": {},
   "source": [
    "- At this stage, you will have artifacts containing the feature table corresponding feature sequences, and DADA2 denoising stats. You can generate summaries of these as follows.\n",
    "```\n",
    "qiime feature-table summarize \\\n",
    "  --i-table table.qza \\\n",
    "  --o-visualization table.qzv \\\n",
    "  --m-sample-metadata-file sample-metadata.tsv\n",
    "\n",
    "qiime feature-table tabulate-seqs \\\n",
    "  --i-data rep-seqs.qza \\\n",
    "  --o-visualization rep-seqs.qzv\n",
    "\n",
    "qiime metadata tabulate \\\n",
    "  --m-input-file denoising-stats.qza \\\n",
    "  --o-visualization denoising-stats.qzv\n",
    "  ```"
   ]
  },
  {
   "cell_type": "markdown",
   "id": "257ef938-a50d-4cf8-b678-2b3f83c7ebf2",
   "metadata": {},
   "source": [
    "----"
   ]
  },
  {
   "cell_type": "markdown",
   "id": "571703d1-7d49-40c5-be43-9d35407bb902",
   "metadata": {},
   "source": [
    "> DADA2로 quality filtering 완료, 해당 데이터를 visualization 해보자"
   ]
  },
  {
   "cell_type": "markdown",
   "id": "15ceeb71-c9a4-40c4-9365-5962e1e6d6b1",
   "metadata": {},
   "source": [
    "\\- feature-table summarize\n",
    "  - Information on how many sequences are associated with each sample and with each feature, histogram of those distributions, and some related summary statistics.\n",
    "  - 각 샘플에서 얼마나 많은 시퀀스들이 각 feature들에 대해서 어느정도 유사한지, 그 분포를 히스토그램으로, 그리고 통계량으로 관측.\n",
    "- feature-table tabulate-seqs\n",
    "  - 각 시퀀스의 feature ID의 mapping 제공\n",
    "  - provide links to BLAST each sequence against the NCBI nt database\n",
    "    - ???\n",
    "    - dada2로 필터링 -> feature-table tabulate-seqs -> BLAST라는 알고리즘을 이용하여 NCBI라는 데이터베이스를 참고하여 align, 비교대조한다. \n",
    "\n",
    "```\n",
    "  qiime feature-table summarize \\\n",
    "  --i-table table.qza \\\n",
    "  --o-visualization table.qzv \\\n",
    "  --m-sample-metadata-file sample-metadata.tsv\n",
    "qiime feature-table tabulate-seqs \\\n",
    "  --i-data rep-seqs.qza \\\n",
    "  --o-visualization rep-seqs.qzv\n",
    "```"
   ]
  },
  {
   "cell_type": "markdown",
   "id": "3dc015d7-42d7-43bf-aad3-1509ba5f3523",
   "metadata": {},
   "source": [
    "----"
   ]
  },
  {
   "cell_type": "markdown",
   "id": "f383c35c-54c9-43c2-b620-0d0ccca645c7",
   "metadata": {},
   "source": [
    "> Generate a tree for phylogenetic diversity analyses - 계통발생적 다양성 분석을 위한 tree 생성\n",
    "\n",
    "    QIIME supports several phylogenetic diversity metrics, including <Faith’s Phylogenetic Diversity> and <weighted and unweighted UniFrac>\n",
    "    \n",
    "    필요한 거?\n",
    "    feature table + a rooted phylogenetic tree\n",
    "    \n",
    "    해당 정보는  Phylogeny[Rooted] QIIME2 artifact에 형성된다. \n",
    "    \n",
    "    To generate a phylogenetic tree, we will use align-to-tree-mafft-fasttree pipeline from the q2-phylogeny plugin."
   ]
  },
  {
   "cell_type": "markdown",
   "id": "2e0c4e0a-94ab-42cd-aea1-eafaba9b5b9b",
   "metadata": {},
   "source": [
    "- first step\n",
    "  - the pipeline uses the mafft program to perform a multiple sequence alignment of the sequences in our FeatureData[Sequence] to create a FeatureData[AlignedSequence] QIIME 2 artifact.\n",
    "- next step\n",
    "  - Next, the pipeline masks (or filters) the alignment to remove positions that are highly variable. These positions are generally considered to add noise to a resulting phylogenetic tree. 매우 가변적인 위치를 제거한다. 이러한 가변적인 위치는 계통발생학적 tree에 노이즈로 취급되기 때문에 제거하는 것.\n",
    "    - Following that, the pipeline applies FastTree to generate a phylogenetic tree from the masked alignment.\n",
    "    - masked alignment로부터 phylogenetic tree를 만들기 위해서 FastTree 프로그램을 이용한다. \n",
    "    - FastTree 프로그램은 unrooted tree를 생성하고  so in the final step in this section midpoint rooting is applied to place the root of the tree at the midpoint of the longest tip-to-tip distance in the unrooted tree.\n",
    "    - 내 생각?\n",
    "    - rooted tree의 midpoint rooting이 unrooted tree의 midpoint rooting으로 사용되는 듯???\n",
    "    "
   ]
  },
  {
   "cell_type": "markdown",
   "id": "93695686-b672-47ce-ad0e-6499559f699a",
   "metadata": {},
   "source": [
    "> Alpha and beta diversity analysis"
   ]
  },
  {
   "cell_type": "markdown",
   "id": "41892249-035d-4d5b-b00d-067d5a2a22b0",
   "metadata": {},
   "source": [
    "- QIIME 2’s diversity analyses are available through the q2-diversity plugin\n",
    "  - 이 스크립트에서 제공해야 하는 중요한 매개변수는 --p-sampling-depth이며, 이는 짝수 샘플링(즉, 희박화)의 깊이이다. \n",
    "  - diversity metric은 다양한 샘플의 다양한 깊이에 민감하기 때문에 이 스크립트는 각 샘플의 카운트를 이 매개변수에 제공된 값으로 무작위 서브 샘플링한다. \n",
    "  - 예를 들어, --p-sampling-depth 500을 제공하는 경우 이 단계는 결과 테이블의 각 샘플이 총 500개가 되도록 교체없이 각 샘플의 카운트를 서브샘플링한다. \n",
    "    - 이 값보다 작으면 해당 샘플은 다양성 분석에서 제외된다 .\n",
    "    - 이 값은 table.qzv 파일에 제시된 정보를 검토하여 선택하는 것이 좋다.\n",
    "    - 가능한 한 적은 수의 샘플을 제외하면서 가능한 높은 값을 선택해야 한다. \n",
    "      - 샘플 당 더 많은 시퀀스 유지\n",
    "      -  Losing a disproportionate number of samples from one metadata category is not ideal."
   ]
  },
  {
   "cell_type": "markdown",
   "id": "0db05ac7-7244-4310-b397-cda593104c40",
   "metadata": {},
   "source": [
    "- 그런데 ...feature table을 희박화 한다는 게 뭘 의미?\n",
    "  - "
   ]
  },
  {
   "cell_type": "code",
   "execution_count": null,
   "id": "54fe9740-c17a-45b8-a389-27b388c5d744",
   "metadata": {},
   "outputs": [],
   "source": []
  }
 ],
 "metadata": {
  "kernelspec": {
   "display_name": "Python 3 (ipykernel)",
   "language": "python",
   "name": "python3"
  },
  "language_info": {
   "codemirror_mode": {
    "name": "ipython",
    "version": 3
   },
   "file_extension": ".py",
   "mimetype": "text/x-python",
   "name": "python",
   "nbconvert_exporter": "python",
   "pygments_lexer": "ipython3",
   "version": "3.7.6"
  }
 },
 "nbformat": 4,
 "nbformat_minor": 5
}
